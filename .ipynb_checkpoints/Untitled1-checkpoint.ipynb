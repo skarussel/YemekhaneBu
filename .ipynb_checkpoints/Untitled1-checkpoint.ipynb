{
 "cells": [
  {
   "cell_type": "code",
   "execution_count": 12,
   "id": "85f9ce76-86ec-426d-a6af-d744231db489",
   "metadata": {},
   "outputs": [],
   "source": [
    "import time \n",
    "from datetime import datetime, timezone\n",
    "import pytz\n",
    "from bs4 import BeautifulSoup\n",
    "from urllib.request import urlopen\n",
    "\n",
    "\n",
    "  \n",
    "def grab(): \n",
    "    url = \"https://yemekhane.boun.edu.tr/aylik-menu\"\n",
    "    page = urlopen(url)\n",
    "    html = page.read().decode(\"utf-8\")\n",
    "    soup = BeautifulSoup(html, \"html.parser\")\n",
    "    month = s.find(\"h3\").get_text()\n",
    "    return soup"
   ]
  },
  {
   "cell_type": "code",
   "execution_count": 13,
   "id": "de5a71bb-3d34-46ff-bbf3-f944c7a8b64d",
   "metadata": {},
   "outputs": [],
   "source": [
    "s = grab()"
   ]
  },
  {
   "cell_type": "code",
   "execution_count": 24,
   "id": "3145f09f-daad-4176-9c5c-a8a7d8672122",
   "metadata": {},
   "outputs": [
    {
     "name": "stdout",
     "output_type": "stream",
     "text": [
      "None\n"
     ]
    }
   ],
   "source": [
    "print(s.find(\"Şubat\"))"
   ]
  },
  {
   "cell_type": "code",
   "execution_count": null,
   "id": "d11bb70f-6a2b-4936-896c-af21143fb316",
   "metadata": {},
   "outputs": [],
   "source": []
  }
 ],
 "metadata": {
  "kernelspec": {
   "display_name": "Python 3",
   "language": "python",
   "name": "python3"
  },
  "language_info": {
   "codemirror_mode": {
    "name": "ipython",
    "version": 3
   },
   "file_extension": ".py",
   "mimetype": "text/x-python",
   "name": "python",
   "nbconvert_exporter": "python",
   "pygments_lexer": "ipython3",
   "version": "3.9.2"
  }
 },
 "nbformat": 4,
 "nbformat_minor": 5
}
