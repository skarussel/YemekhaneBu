{
 "cells": [
  {
   "cell_type": "code",
   "execution_count": null,
   "id": "9ad143ba-12c1-420e-9d13-363b0b27aacb",
   "metadata": {},
   "outputs": [],
   "source": [
    "import os\n",
    "\n",
    "from telegram import Update #upm package(python-telegram-bot)\n",
    "from telegram.ext import Updater, CommandHandler, MessageHandler, Filters, CallbackContext, ConversationHandler  #upm package(python-telegram-bot)\n",
    "from replit import db\n",
    "\n",
    "\n",
    "\n",
    "class Bot:\n",
    "\n",
    "    NAME, EMAIL, PASSWORD = range(3)\n",
    "\n",
    "    def __init__(self):\n",
    "        TOKEN = \"5182546890:AAE7Bf7ClkZX2Z_dxlcZpvfAFe2WEPn6keg\"\n",
    "        self.updater = Updater(TOKEN)\n",
    "\n",
    "        dispatcher = self.updater.dispatcher\n",
    "        dispatcher.add_handler(CommandHandler(\"start\", start))\n",
    "        dispatcher.add_handler(CommandHandler(\"help\", help))\n",
    "    \n",
    "\n",
    "\n",
    "\n",
    "def help(update: Update, context: CallbackContext) -> None:\n",
    "    htext = \"\"\"\n",
    "    /nextday: meals next day  \n",
    "    /week: meals this week\n",
    "    /nextweek: meals next week \n",
    "\n",
    "    Every Meal comes with a number. To see the ingridents just type /i and the number, e.g. i1 for ingridents of meal number 1.\n",
    "    \"\"\"\n",
    "    update.message.reply_text(htext)\n",
    "\n",
    "\n",
    "def start(update: Update, context: CallbackContext) -> None:\n",
    "  \n",
    "    htext = f\"\"\" \n",
    "    Hello, i will inform you about daily meals in yemekhane. By default I will speak to you in english. If u want to change the language type /language tr for turkish, de for german and en for english. If you type /help you will get an overview over my functions.\n",
    "\n",
    "    Enjoy your food :) \n",
    "\n",
    "    turkish version\n",
    "\n",
    "    german version \n",
    "    \"\"\"\n",
    "\n",
    "    update.message.reply_text(htext)\n",
    "\n",
    "\n"
   ]
  }
 ],
 "metadata": {
  "kernelspec": {
   "display_name": "Python 3 (ipykernel)",
   "language": "python",
   "name": "python3"
  },
  "language_info": {
   "codemirror_mode": {
    "name": "ipython",
    "version": 3
   },
   "file_extension": ".py",
   "mimetype": "text/x-python",
   "name": "python",
   "nbconvert_exporter": "python",
   "pygments_lexer": "ipython3",
   "version": "3.10.1"
  }
 },
 "nbformat": 4,
 "nbformat_minor": 5
}
