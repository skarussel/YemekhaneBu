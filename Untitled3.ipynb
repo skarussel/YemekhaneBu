{
 "cells": [
  {
   "cell_type": "code",
   "execution_count": 24,
   "id": "c9ee0267-4009-4919-8a02-4d7506e9699e",
   "metadata": {},
   "outputs": [],
   "source": [
    "from datetime import datetime\n",
    "import pytz\n",
    "\n",
    "istanbul = pytz.timezone(\"Europe/Istanbul\")\n",
    "\n",
    "test = {\"1.2\": 3,\n",
    "       \"2.2\": 4,\n",
    "       \"3.2\": 5,\n",
    "       \"10.02\": 6,\n",
    "       \"11.03\": 7,\n",
    "       \"23.3\": 7,\n",
    "       \"24.03\": 8}\n",
    "keys = list(test.keys())\n",
    "m = 2\n",
    "date = datetime.now(istanbul).date()"
   ]
  },
  {
   "cell_type": "code",
   "execution_count": 25,
   "id": "126ca886-ae3b-4021-b945-e46ceb7c1d75",
   "metadata": {},
   "outputs": [],
   "source": [
    "import re\n",
    "p = re.compile(f\"^[0-9]+\\.{m}\")"
   ]
  },
  {
   "cell_type": "code",
   "execution_count": 26,
   "id": "4c94ba23-91b1-4a4e-81fd-4535f3c4186f",
   "metadata": {},
   "outputs": [
    {
     "data": {
      "text/plain": [
       "['1.2', '2.2', '3.2']"
      ]
     },
     "execution_count": 26,
     "metadata": {},
     "output_type": "execute_result"
    }
   ],
   "source": [
    "[ s for s in test if p.match(s)]"
   ]
  },
  {
   "cell_type": "code",
   "execution_count": null,
   "id": "c0c83fad-b2e5-4e4f-b39c-4573b11d6aef",
   "metadata": {},
   "outputs": [],
   "source": []
  }
 ],
 "metadata": {
  "kernelspec": {
   "display_name": "Python 3 (ipykernel)",
   "language": "python",
   "name": "python3"
  },
  "language_info": {
   "codemirror_mode": {
    "name": "ipython",
    "version": 3
   },
   "file_extension": ".py",
   "mimetype": "text/x-python",
   "name": "python",
   "nbconvert_exporter": "python",
   "pygments_lexer": "ipython3",
   "version": "3.9.7"
  }
 },
 "nbformat": 4,
 "nbformat_minor": 5
}
